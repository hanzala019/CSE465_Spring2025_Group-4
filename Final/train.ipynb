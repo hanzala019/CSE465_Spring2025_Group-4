{
 "cells": [
  {
   "cell_type": "code",
   "execution_count": null,
   "id": "74675141",
   "metadata": {},
   "outputs": [],
   "source": [
    "import numpy as np\n",
    "import pandas as pd\n",
    "import matplotlib.pyplot as plt\n",
    "from sklearn.model_selection import train_test_split\n",
    "from scipy import stats\n",
    "from sklearn.preprocessing import LabelEncoder\n",
    "from tensorflow.keras.models import Sequential\n",
    "from tensorflow.keras.layers import LSTM, Dense\n",
    "from tensorflow.keras.utils import to_categorical\n",
    "from sklearn.metrics import classification_report, confusion_matrix, accuracy_score, precision_score, recall_score, f1_score\n",
    "import seaborn as sns"
   ]
  },
  {
   "cell_type": "code",
   "execution_count": null,
   "id": "b9abaf1b",
   "metadata": {},
   "outputs": [],
   "source": [
    "# Load the training, validation, and test sets\n",
    "train_df = pd.read_csv(\"train_set.csv\")\n",
    "val_df = pd.read_csv(\"val_set.csv\")\n",
    "test_df = pd.read_csv(\"test_set.csv\")\n",
    "\n",
    "# Get all columns for x, y, z (ignore time columns)\n",
    "feature_cols = [col for col in train_df.columns if col.startswith(('x', 'y', 'z'))]\n",
    "\n",
    "def reshape_for_lstm(df):\n",
    "    X = df[feature_cols].values\n",
    "    # Reshape from (samples, 15) to (samples, 5 timesteps, 3 features)\n",
    "    X = X.reshape((X.shape[0], 5, 3))\n",
    "    return X\n",
    "\n",
    "X_train = reshape_for_lstm(train_df)\n",
    "X_val = reshape_for_lstm(val_df)\n",
    "X_test = reshape_for_lstm(test_df)\n",
    "\n",
    "# Encode labels\n",
    "label_encoder = LabelEncoder()\n",
    "y_train = label_encoder.fit_transform(train_df['activity_id'])\n",
    "y_val = label_encoder.transform(val_df['activity_id'])\n",
    "y_test = label_encoder.transform(test_df['activity_id'])\n",
    "\n",
    "# Convert labels to one-hot encoding\n",
    "y_train_cat = to_categorical(y_train)\n",
    "y_val_cat = to_categorical(y_val)\n",
    "y_test_cat = to_categorical(y_test)\n",
    "\n",
    "# Model\n",
    "model = Sequential()\n",
    "model.add(LSTM(64, input_shape=(5, 3)))\n",
    "model.add(Dense(32, activation='relu'))\n",
    "model.add(Dense(len(np.unique(y_train)), activation='softmax'))\n",
    "\n",
    "model.compile(optimizer='adam', loss='categorical_crossentropy', metrics=['accuracy'])\n",
    "\n",
    "# Train\n",
    "history = model.fit(\n",
    "    X_train, y_train_cat,\n",
    "    validation_data=(X_val, y_val_cat),\n",
    "    epochs=20,\n",
    "    batch_size=32\n",
    ")\n",
    "\n",
    "# Evaluate\n",
    "test_loss, test_acc = model.evaluate(X_test, y_test_cat)\n",
    "print(f\"Test Accuracy: {test_acc:.2f}\")\n"
   ]
  },
  {
   "cell_type": "code",
   "execution_count": null,
   "id": "f2e9e188",
   "metadata": {},
   "outputs": [],
   "source": [
    "model.save(\"lstm_model.h5\")"
   ]
  }
 ],
 "metadata": {
  "language_info": {
   "name": "python"
  }
 },
 "nbformat": 4,
 "nbformat_minor": 5
}
